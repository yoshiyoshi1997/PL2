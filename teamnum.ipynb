<<<<<<< HEAD
{"nbformat":4,"nbformat_minor":0,"metadata":{"colab":{"name":"teamnum.ipynb","provenance":[],"collapsed_sections":[],"mount_file_id":"1fbMPo87R--qbYJyiI2mx2xPKfSe8Py_m","authorship_tag":"ABX9TyOYaUhfJ5c/5vQDh4ziyNih"},"kernelspec":{"name":"python3","display_name":"Python 3"}},"cells":[{"cell_type":"code","metadata":{"id":"J8N6msjCQNLV","colab_type":"code","outputId":"3e8b3386-46f0-4c79-9fbe-3cb4e5d34bfe","executionInfo":{"status":"ok","timestamp":1590336798383,"user_tz":-540,"elapsed":5208,"user":{"displayName":"吉本理","photoUrl":"","userId":"06863314203929646738"}},"colab":{"base_uri":"https://localhost:8080/","height":187}},"source":["!pip install --upgrade beautifulsoup4"],"execution_count":0,"outputs":[{"output_type":"stream","text":["Collecting beautifulsoup4\n","\u001b[?25l  Downloading https://files.pythonhosted.org/packages/66/25/ff030e2437265616a1e9b25ccc864e0371a0bc3adb7c5a404fd661c6f4f6/beautifulsoup4-4.9.1-py3-none-any.whl (115kB)\n","\r\u001b[K     |██▉                             | 10kB 14.1MB/s eta 0:00:01\r\u001b[K     |█████▊                          | 20kB 2.2MB/s eta 0:00:01\r\u001b[K     |████████▌                       | 30kB 2.8MB/s eta 0:00:01\r\u001b[K     |███████████▍                    | 40kB 3.1MB/s eta 0:00:01\r\u001b[K     |██████████████▎                 | 51kB 2.5MB/s eta 0:00:01\r\u001b[K     |█████████████████               | 61kB 2.8MB/s eta 0:00:01\r\u001b[K     |████████████████████            | 71kB 3.1MB/s eta 0:00:01\r\u001b[K     |██████████████████████▉         | 81kB 3.4MB/s eta 0:00:01\r\u001b[K     |█████████████████████████▋      | 92kB 3.6MB/s eta 0:00:01\r\u001b[K     |████████████████████████████▌   | 102kB 3.5MB/s eta 0:00:01\r\u001b[K     |███████████████████████████████▎| 112kB 3.5MB/s eta 0:00:01\r\u001b[K     |████████████████████████████████| 122kB 3.5MB/s \n","\u001b[?25hCollecting soupsieve>1.2\n","  Downloading https://files.pythonhosted.org/packages/6f/8f/457f4a5390eeae1cc3aeab89deb7724c965be841ffca6cfca9197482e470/soupsieve-2.0.1-py3-none-any.whl\n","Installing collected packages: soupsieve, beautifulsoup4\n","  Found existing installation: beautifulsoup4 4.6.3\n","    Uninstalling beautifulsoup4-4.6.3:\n","      Successfully uninstalled beautifulsoup4-4.6.3\n","Successfully installed beautifulsoup4-4.9.1 soupsieve-2.0.1\n"],"name":"stdout"}]},{"cell_type":"code","metadata":{"id":"-YfHHiB8QP7l","colab_type":"code","outputId":"6185187d-b2d5-4897-8f6e-72da076d0a68","executionInfo":{"status":"ok","timestamp":1590336791061,"user_tz":-540,"elapsed":507,"user":{"displayName":"吉本理","photoUrl":"","userId":"06863314203929646738"}},"colab":{"base_uri":"https://localhost:8080/","height":34}},"source":["cd /content/drive/My Drive/PremierLeague/1920"],"execution_count":0,"outputs":[{"output_type":"stream","text":["/content/drive/My Drive/PremierLeague/1920\n"],"name":"stdout"}]},{"cell_type":"code","metadata":{"id":"-W6gAe9IQXTQ","colab_type":"code","colab":{}},"source":["from bs4 import BeautifulSoup\n","import urllib.request as req\n","import requests\n","import pandas as pd\n","from pandas import DataFrame\n","from pandas import Series\n","import re"],"execution_count":0,"outputs":[]},{"cell_type":"code","metadata":{"id":"ykJCu6DcS2PM","colab_type":"code","outputId":"f322dc64-6415-4c30-d5ec-bf94ab73be00","executionInfo":{"status":"ok","timestamp":1590244662112,"user_tz":-540,"elapsed":1470,"user":{"displayName":"吉本理","photoUrl":"","userId":"06863314203929646738"}},"colab":{"base_uri":"https://localhost:8080/","height":34}},"source":["with open('/content/drive/My Drive/PremierLeague/1920/team.html',encoding=\"utf-8\") as f:\n","    soup = BeautifulSoup(f, 'html.parser')\n","team = soup.select_one('#standings-17590-content > tr:nth-child(1) > td.team')\n","team"],"execution_count":0,"outputs":[{"output_type":"execute_result","data":{"text/plain":["<td class=\"team\"><a class=\"team-link\" href=\"/Teams/26/Show/England-Liverpool\" title=\"\">Liverpool</a></td>"]},"metadata":{"tags":[]},"execution_count":4}]},{"cell_type":"markdown","metadata":{"id":"8zUrDa0kd12w","colab_type":"text"},"source":["リーグの順位表のhtmlからチームのID番号取得"]},{"cell_type":"code","metadata":{"id":"v3YUCt7ncN2W","colab_type":"code","outputId":"1c2acc7b-ef87-41d7-905a-9b41028f4a60","executionInfo":{"status":"ok","timestamp":1590051647551,"user_tz":-540,"elapsed":1475,"user":{"displayName":"吉本理","photoUrl":"","userId":"06863314203929646738"}},"colab":{"base_uri":"https://localhost:8080/","height":357}},"source":["teamnum = []\n","for i in range(1,21):\n","  selector = '#standings-17590-content > tr:nth-child(' + str(i) + ') > td.team'\n","  team = soup.select_one(selector)\n","  num = re.findall('[0-9]+',str(team))\n","  teamnum.append(int(num[0]))\n","  print('{} {}'.format(teamnum[i-1], team.string))"],"execution_count":0,"outputs":[{"output_type":"stream","text":["26 Liverpool\n","167 Manchester City\n","14 Leicester\n","15 Chelsea\n","32 Manchester United\n","161 Wolverhampton Wanderers\n","163 Sheffield United\n","30 Tottenham\n","13 Arsenal\n","184 Burnley\n","162 Crystal Palace\n","31 Everton\n","23 Newcastle United\n","18 Southampton\n","211 Brighton\n","29 West Ham\n","27 Watford\n","183 Bournemouth\n","24 Aston Villa\n","168 Norwich\n"],"name":"stdout"}]},{"cell_type":"code","metadata":{"id":"Wcwx4e5mcgKM","colab_type":"code","outputId":"b7a219c4-c7b8-44ee-c4ca-854e4078a7bf","executionInfo":{"status":"ok","timestamp":1590051764470,"user_tz":-540,"elapsed":1982,"user":{"displayName":"吉本理","photoUrl":"","userId":"06863314203929646738"}},"colab":{"base_uri":"https://localhost:8080/","height":34}},"source":["print(teamnum)"],"execution_count":0,"outputs":[{"output_type":"stream","text":["[26, 167, 14, 15, 32, 161, 163, 30, 13, 184, 162, 31, 23, 18, 211, 29, 27, 183, 24, 168]\n"],"name":"stdout"}]},{"cell_type":"markdown","metadata":{"id":"EJUNmrNJyhMA","colab_type":"text"},"source":["各チームのFixturesから試合のIDを取得する。"]},{"cell_type":"code","metadata":{"id":"DOoFSi9zd_W3","colab_type":"code","outputId":"e77a162b-72f1-43bd-bf19-a5c5fa56025b","executionInfo":{"status":"ok","timestamp":1590057235892,"user_tz":-540,"elapsed":2622,"user":{"displayName":"吉本理","photoUrl":"","userId":"06863314203929646738"}},"colab":{"base_uri":"https://localhost:8080/","height":102}},"source":["%ls ./01Fixtures"],"execution_count":0,"outputs":[{"output_type":"stream","text":["pl1920_13.html   pl1920_163.html  pl1920_18.html   pl1920_27.html\n","pl1920_14.html   pl1920_167.html  pl1920_211.html  pl1920_29.html\n","pl1920_15.html   pl1920_168.html  pl1920_23.html   pl1920_30.html\n","pl1920_161.html  pl1920_183.html  pl1920_24.html   pl1920_31.html\n","pl1920_162.html  pl1920_184.html  pl1920_26.html   pl1920_32.html\n"],"name":"stdout"}]},{"cell_type":"code","metadata":{"id":"H5jtYc3My-hJ","colab_type":"code","outputId":"410cb96e-4449-49be-b459-72b0806c20d2","executionInfo":{"status":"ok","timestamp":1590336819381,"user_tz":-540,"elapsed":4264,"user":{"displayName":"吉本理","photoUrl":"","userId":"06863314203929646738"}},"colab":{"base_uri":"https://localhost:8080/","height":34}},"source":["#team_idに値を入力して検索\n","team_id = 168\n","html = '/content/drive/My Drive/PremierLeague/1920/01Fixtures/pl1920_' + str(team_id) + '.html'\n","with open(html,encoding=\"utf-8\") as f:\n","    soup = BeautifulSoup(f, 'html.parser')\n","team = soup.select_one('#layout-content-wrapper > div.layout-content-2col-left > div.header > h2 > span')\n","team.string"],"execution_count":0,"outputs":[{"output_type":"execute_result","data":{"text/plain":["'Norwich'"]},"metadata":{"tags":[]},"execution_count":4}]},{"cell_type":"markdown","metadata":{"id":"PdR2TwTa-EiV","colab_type":"text"},"source":["Templateからフォルダ作成"]},{"cell_type":"code","metadata":{"id":"d9zNc6EBCtt7","colab_type":"code","colab":{}},"source":["%cp -r 02Template Norwich"],"execution_count":0,"outputs":[]},{"cell_type":"code","metadata":{"id":"UDzUccyZz473","colab_type":"code","outputId":"31275e91-5b19-4510-f85a-38e51fdd9c92","executionInfo":{"status":"ok","timestamp":1590336835070,"user_tz":-540,"elapsed":523,"user":{"displayName":"吉本理","photoUrl":"","userId":"06863314203929646738"}},"colab":{"base_uri":"https://localhost:8080/","height":68}},"source":["match_url = soup.select_one('#team-fixtures > tbody > tr:nth-child(' + str(1) + ') > td.result > a')\n","print(match_url)\n","match_id = re.findall('[0-9]+',str(match_url))\n","print(match_id)\n","#match_idの2番目に試合IDが格納されている\n","print(match_id[1])"],"execution_count":0,"outputs":[{"output_type":"stream","text":["<a class=\"result-1 rc\" href=\"/Matches/1375927/Live/England-Premier-League-2019-2020-Liverpool-Norwich\">4 : 1</a>\n","['1', '1375927', '2019', '2020', '4', '1']\n","1375927\n"],"name":"stdout"}]},{"cell_type":"code","metadata":{"id":"3g8lULqm0HdJ","colab_type":"code","colab":{}},"source":["match_idlist = []\n","for i in  range(1,100):\n","  tournament_selector = '#team-fixtures > tbody > tr:nth-child(' + str(i) + ') > td.tournament > a'\n","  if soup.select_one(tournament_selector).string == 'EPL':\n","    match_url = soup.select_one('#team-fixtures > tbody > tr:nth-child(' + str(i) + ') > td.result > a')\n","    if match_url.string == 'vs':\n","      break\n","    match_id = re.findall('[0-9]+',str(match_url))\n","    match_idlist.append(int(match_id[1]))"],"execution_count":0,"outputs":[]},{"cell_type":"code","metadata":{"id":"jw6Rj8hP1ed1","colab_type":"code","outputId":"086d1687-f51c-4bba-e054-a20c7a11c17f","executionInfo":{"status":"ok","timestamp":1590336839654,"user_tz":-540,"elapsed":543,"user":{"displayName":"吉本理","photoUrl":"","userId":"06863314203929646738"}},"colab":{"base_uri":"https://localhost:8080/","height":34}},"source":["len(match_idlist)"],"execution_count":0,"outputs":[{"output_type":"execute_result","data":{"text/plain":["29"]},"metadata":{"tags":[]},"execution_count":8}]},{"cell_type":"markdown","metadata":{"id":"hYxA6QUXYdwv","colab_type":"text"},"source":["UWSC用のコード"]},{"cell_type":"code","metadata":{"id":"g3LKaDvK2Ps_","colab_type":"code","outputId":"64bfa16e-e371-4553-859a-74424157f6e9","executionInfo":{"status":"ok","timestamp":1590336841069,"user_tz":-540,"elapsed":499,"user":{"displayName":"吉本理","photoUrl":"","userId":"06863314203929646738"}},"colab":{"base_uri":"https://localhost:8080/","height":54}},"source":["print(match_idlist)"],"execution_count":0,"outputs":[{"output_type":"stream","text":["[1375927, 1375943, 1375970, 1375961, 1375969, 1375992, 1376016, 1376042, 1376052, 1375976, 1375983, 1376007, 1376025, 1376047, 1376069, 1376288, 1376296, 1376268, 1376272, 1376094, 1376134, 1376108, 1376147, 1376109, 1376141, 1376099, 1376149, 1376217, 1376247]\n"],"name":"stdout"}]},{"cell_type":"markdown","metadata":{"id":"Eo6Fcjo0YhCj","colab_type":"text"},"source":["matches.py用のリスト"]},{"cell_type":"code","metadata":{"id":"LDKynXzpB7Qv","colab_type":"code","outputId":"9d64bf11-9a2b-494f-be94-d06da116f00c","executionInfo":{"status":"ok","timestamp":1590336842766,"user_tz":-540,"elapsed":523,"user":{"displayName":"吉本理","photoUrl":"","userId":"06863314203929646738"}},"colab":{"base_uri":"https://localhost:8080/","height":510}},"source":["matchespy = []\n","for i in match_idlist:\n","  matchespy.append('pl1920_' + str(i)  +'.html')\n","matchespy"],"execution_count":0,"outputs":[{"output_type":"execute_result","data":{"text/plain":["['pl1920_1375927.html',\n"," 'pl1920_1375943.html',\n"," 'pl1920_1375970.html',\n"," 'pl1920_1375961.html',\n"," 'pl1920_1375969.html',\n"," 'pl1920_1375992.html',\n"," 'pl1920_1376016.html',\n"," 'pl1920_1376042.html',\n"," 'pl1920_1376052.html',\n"," 'pl1920_1375976.html',\n"," 'pl1920_1375983.html',\n"," 'pl1920_1376007.html',\n"," 'pl1920_1376025.html',\n"," 'pl1920_1376047.html',\n"," 'pl1920_1376069.html',\n"," 'pl1920_1376288.html',\n"," 'pl1920_1376296.html',\n"," 'pl1920_1376268.html',\n"," 'pl1920_1376272.html',\n"," 'pl1920_1376094.html',\n"," 'pl1920_1376134.html',\n"," 'pl1920_1376108.html',\n"," 'pl1920_1376147.html',\n"," 'pl1920_1376109.html',\n"," 'pl1920_1376141.html',\n"," 'pl1920_1376099.html',\n"," 'pl1920_1376149.html',\n"," 'pl1920_1376217.html',\n"," 'pl1920_1376247.html']"]},"metadata":{"tags":[]},"execution_count":10}]},{"cell_type":"code","metadata":{"id":"H8lzHJZBy_Ld","colab_type":"code","colab":{}},"source":[""],"execution_count":0,"outputs":[]}]}
=======
{
  "nbformat": 4,
  "nbformat_minor": 0,
  "metadata": {
    "colab": {
      "name": "teamnum.ipynb",
      "provenance": [],
      "collapsed_sections": [],
      "mount_file_id": "1fbMPo87R--qbYJyiI2mx2xPKfSe8Py_m",
      "authorship_tag": "ABX9TyNZEtzLISkw9JMC3NxZEHu3",
      "include_colab_link": true
    },
    "kernelspec": {
      "name": "python3",
      "display_name": "Python 3"
    }
  },
  "cells": [
    {
      "cell_type": "markdown",
      "metadata": {
        "id": "view-in-github",
        "colab_type": "text"
      },
      "source": [
        "<a href=\"https://colab.research.google.com/github/yoshiyoshi1997/PremierLeague/blob/master/teamnum.ipynb\" target=\"_parent\"><img src=\"https://colab.research.google.com/assets/colab-badge.svg\" alt=\"Open In Colab\"/></a>"
      ]
    },
    {
      "cell_type": "code",
      "metadata": {
        "id": "J8N6msjCQNLV",
        "colab_type": "code",
        "outputId": "3e8b3386-46f0-4c79-9fbe-3cb4e5d34bfe",
        "colab": {
          "base_uri": "https://localhost:8080/",
          "height": 187
        }
      },
      "source": [
        "!pip install --upgrade beautifulsoup4"
      ],
      "execution_count": 0,
      "outputs": [
        {
          "output_type": "stream",
          "text": [
            "Collecting beautifulsoup4\n",
            "\u001b[?25l  Downloading https://files.pythonhosted.org/packages/66/25/ff030e2437265616a1e9b25ccc864e0371a0bc3adb7c5a404fd661c6f4f6/beautifulsoup4-4.9.1-py3-none-any.whl (115kB)\n",
            "\r\u001b[K     |██▉                             | 10kB 14.1MB/s eta 0:00:01\r\u001b[K     |█████▊                          | 20kB 2.2MB/s eta 0:00:01\r\u001b[K     |████████▌                       | 30kB 2.8MB/s eta 0:00:01\r\u001b[K     |███████████▍                    | 40kB 3.1MB/s eta 0:00:01\r\u001b[K     |██████████████▎                 | 51kB 2.5MB/s eta 0:00:01\r\u001b[K     |█████████████████               | 61kB 2.8MB/s eta 0:00:01\r\u001b[K     |████████████████████            | 71kB 3.1MB/s eta 0:00:01\r\u001b[K     |██████████████████████▉         | 81kB 3.4MB/s eta 0:00:01\r\u001b[K     |█████████████████████████▋      | 92kB 3.6MB/s eta 0:00:01\r\u001b[K     |████████████████████████████▌   | 102kB 3.5MB/s eta 0:00:01\r\u001b[K     |███████████████████████████████▎| 112kB 3.5MB/s eta 0:00:01\r\u001b[K     |████████████████████████████████| 122kB 3.5MB/s \n",
            "\u001b[?25hCollecting soupsieve>1.2\n",
            "  Downloading https://files.pythonhosted.org/packages/6f/8f/457f4a5390eeae1cc3aeab89deb7724c965be841ffca6cfca9197482e470/soupsieve-2.0.1-py3-none-any.whl\n",
            "Installing collected packages: soupsieve, beautifulsoup4\n",
            "  Found existing installation: beautifulsoup4 4.6.3\n",
            "    Uninstalling beautifulsoup4-4.6.3:\n",
            "      Successfully uninstalled beautifulsoup4-4.6.3\n",
            "Successfully installed beautifulsoup4-4.9.1 soupsieve-2.0.1\n"
          ],
          "name": "stdout"
        }
      ]
    },
    {
      "cell_type": "code",
      "metadata": {
        "id": "-YfHHiB8QP7l",
        "colab_type": "code",
        "outputId": "6185187d-b2d5-4897-8f6e-72da076d0a68",
        "colab": {
          "base_uri": "https://localhost:8080/",
          "height": 34
        }
      },
      "source": [
        "cd /content/drive/My Drive/PremierLeague/1920"
      ],
      "execution_count": 0,
      "outputs": [
        {
          "output_type": "stream",
          "text": [
            "/content/drive/My Drive/PremierLeague/1920\n"
          ],
          "name": "stdout"
        }
      ]
    },
    {
      "cell_type": "code",
      "metadata": {
        "id": "-W6gAe9IQXTQ",
        "colab_type": "code",
        "colab": {}
      },
      "source": [
        "from bs4 import BeautifulSoup\n",
        "import urllib.request as req\n",
        "import requests\n",
        "import pandas as pd\n",
        "from pandas import DataFrame\n",
        "from pandas import Series\n",
        "import re"
      ],
      "execution_count": 0,
      "outputs": []
    },
    {
      "cell_type": "code",
      "metadata": {
        "id": "ykJCu6DcS2PM",
        "colab_type": "code",
        "outputId": "f322dc64-6415-4c30-d5ec-bf94ab73be00",
        "colab": {
          "base_uri": "https://localhost:8080/",
          "height": 34
        }
      },
      "source": [
        "with open('/content/drive/My Drive/PremierLeague/1920/team.html',encoding=\"utf-8\") as f:\n",
        "    soup = BeautifulSoup(f, 'html.parser')\n",
        "team = soup.select_one('#standings-17590-content > tr:nth-child(1) > td.team')\n",
        "team"
      ],
      "execution_count": 0,
      "outputs": [
        {
          "output_type": "execute_result",
          "data": {
            "text/plain": [
              "<td class=\"team\"><a class=\"team-link\" href=\"/Teams/26/Show/England-Liverpool\" title=\"\">Liverpool</a></td>"
            ]
          },
          "metadata": {
            "tags": []
          },
          "execution_count": 4
        }
      ]
    },
    {
      "cell_type": "markdown",
      "metadata": {
        "id": "8zUrDa0kd12w",
        "colab_type": "text"
      },
      "source": [
        "リーグの順位表のhtmlからチームのID番号取得"
      ]
    },
    {
      "cell_type": "code",
      "metadata": {
        "id": "v3YUCt7ncN2W",
        "colab_type": "code",
        "outputId": "1c2acc7b-ef87-41d7-905a-9b41028f4a60",
        "colab": {
          "base_uri": "https://localhost:8080/",
          "height": 357
        }
      },
      "source": [
        "teamnum = []\n",
        "for i in range(1,21):\n",
        "  selector = '#standings-17590-content > tr:nth-child(' + str(i) + ') > td.team'\n",
        "  team = soup.select_one(selector)\n",
        "  num = re.findall('[0-9]+',str(team))\n",
        "  teamnum.append(int(num[0]))\n",
        "  print('{} {}'.format(teamnum[i-1], team.string))"
      ],
      "execution_count": 0,
      "outputs": [
        {
          "output_type": "stream",
          "text": [
            "26 Liverpool\n",
            "167 Manchester City\n",
            "14 Leicester\n",
            "15 Chelsea\n",
            "32 Manchester United\n",
            "161 Wolverhampton Wanderers\n",
            "163 Sheffield United\n",
            "30 Tottenham\n",
            "13 Arsenal\n",
            "184 Burnley\n",
            "162 Crystal Palace\n",
            "31 Everton\n",
            "23 Newcastle United\n",
            "18 Southampton\n",
            "211 Brighton\n",
            "29 West Ham\n",
            "27 Watford\n",
            "183 Bournemouth\n",
            "24 Aston Villa\n",
            "168 Norwich\n"
          ],
          "name": "stdout"
        }
      ]
    },
    {
      "cell_type": "code",
      "metadata": {
        "id": "Wcwx4e5mcgKM",
        "colab_type": "code",
        "outputId": "b7a219c4-c7b8-44ee-c4ca-854e4078a7bf",
        "colab": {
          "base_uri": "https://localhost:8080/",
          "height": 34
        }
      },
      "source": [
        "print(teamnum)"
      ],
      "execution_count": 0,
      "outputs": [
        {
          "output_type": "stream",
          "text": [
            "[26, 167, 14, 15, 32, 161, 163, 30, 13, 184, 162, 31, 23, 18, 211, 29, 27, 183, 24, 168]\n"
          ],
          "name": "stdout"
        }
      ]
    },
    {
      "cell_type": "markdown",
      "metadata": {
        "id": "EJUNmrNJyhMA",
        "colab_type": "text"
      },
      "source": [
        "各チームのFixturesから試合のIDを取得する。"
      ]
    },
    {
      "cell_type": "code",
      "metadata": {
        "id": "DOoFSi9zd_W3",
        "colab_type": "code",
        "outputId": "e77a162b-72f1-43bd-bf19-a5c5fa56025b",
        "colab": {
          "base_uri": "https://localhost:8080/",
          "height": 102
        }
      },
      "source": [
        "%ls ./01Fixtures"
      ],
      "execution_count": 0,
      "outputs": [
        {
          "output_type": "stream",
          "text": [
            "pl1920_13.html   pl1920_163.html  pl1920_18.html   pl1920_27.html\n",
            "pl1920_14.html   pl1920_167.html  pl1920_211.html  pl1920_29.html\n",
            "pl1920_15.html   pl1920_168.html  pl1920_23.html   pl1920_30.html\n",
            "pl1920_161.html  pl1920_183.html  pl1920_24.html   pl1920_31.html\n",
            "pl1920_162.html  pl1920_184.html  pl1920_26.html   pl1920_32.html\n"
          ],
          "name": "stdout"
        }
      ]
    },
    {
      "cell_type": "code",
      "metadata": {
        "id": "H5jtYc3My-hJ",
        "colab_type": "code",
        "outputId": "410cb96e-4449-49be-b459-72b0806c20d2",
        "colab": {
          "base_uri": "https://localhost:8080/",
          "height": 34
        }
      },
      "source": [
        "#team_idに値を入力して検索\n",
        "team_id = 168\n",
        "html = '/content/drive/My Drive/PremierLeague/1920/01Fixtures/pl1920_' + str(team_id) + '.html'\n",
        "with open(html,encoding=\"utf-8\") as f:\n",
        "    soup = BeautifulSoup(f, 'html.parser')\n",
        "team = soup.select_one('#layout-content-wrapper > div.layout-content-2col-left > div.header > h2 > span')\n",
        "team.string"
      ],
      "execution_count": 0,
      "outputs": [
        {
          "output_type": "execute_result",
          "data": {
            "text/plain": [
              "'Norwich'"
            ]
          },
          "metadata": {
            "tags": []
          },
          "execution_count": 4
        }
      ]
    },
    {
      "cell_type": "markdown",
      "metadata": {
        "id": "PdR2TwTa-EiV",
        "colab_type": "text"
      },
      "source": [
        "Templateからフォルダ作成"
      ]
    },
    {
      "cell_type": "code",
      "metadata": {
        "id": "d9zNc6EBCtt7",
        "colab_type": "code",
        "colab": {}
      },
      "source": [
        "%cp -r 02Template Norwich"
      ],
      "execution_count": 0,
      "outputs": []
    },
    {
      "cell_type": "code",
      "metadata": {
        "id": "UDzUccyZz473",
        "colab_type": "code",
        "outputId": "31275e91-5b19-4510-f85a-38e51fdd9c92",
        "colab": {
          "base_uri": "https://localhost:8080/",
          "height": 68
        }
      },
      "source": [
        "match_url = soup.select_one('#team-fixtures > tbody > tr:nth-child(' + str(1) + ') > td.result > a')\n",
        "print(match_url)\n",
        "match_id = re.findall('[0-9]+',str(match_url))\n",
        "print(match_id)\n",
        "#match_idの2番目に試合IDが格納されている\n",
        "print(match_id[1])"
      ],
      "execution_count": 0,
      "outputs": [
        {
          "output_type": "stream",
          "text": [
            "<a class=\"result-1 rc\" href=\"/Matches/1375927/Live/England-Premier-League-2019-2020-Liverpool-Norwich\">4 : 1</a>\n",
            "['1', '1375927', '2019', '2020', '4', '1']\n",
            "1375927\n"
          ],
          "name": "stdout"
        }
      ]
    },
    {
      "cell_type": "code",
      "metadata": {
        "id": "3g8lULqm0HdJ",
        "colab_type": "code",
        "colab": {}
      },
      "source": [
        "match_idlist = []\n",
        "for i in  range(1,100):\n",
        "  tournament_selector = '#team-fixtures > tbody > tr:nth-child(' + str(i) + ') > td.tournament > a'\n",
        "  if soup.select_one(tournament_selector).string == 'EPL':\n",
        "    match_url = soup.select_one('#team-fixtures > tbody > tr:nth-child(' + str(i) + ') > td.result > a')\n",
        "    if match_url.string == 'vs':\n",
        "      break\n",
        "    match_id = re.findall('[0-9]+',str(match_url))\n",
        "    match_idlist.append(int(match_id[1]))"
      ],
      "execution_count": 0,
      "outputs": []
    },
    {
      "cell_type": "code",
      "metadata": {
        "id": "jw6Rj8hP1ed1",
        "colab_type": "code",
        "outputId": "086d1687-f51c-4bba-e054-a20c7a11c17f",
        "colab": {
          "base_uri": "https://localhost:8080/",
          "height": 34
        }
      },
      "source": [
        "len(match_idlist)"
      ],
      "execution_count": 0,
      "outputs": [
        {
          "output_type": "execute_result",
          "data": {
            "text/plain": [
              "29"
            ]
          },
          "metadata": {
            "tags": []
          },
          "execution_count": 8
        }
      ]
    },
    {
      "cell_type": "markdown",
      "metadata": {
        "id": "hYxA6QUXYdwv",
        "colab_type": "text"
      },
      "source": [
        "UWSC用のコード"
      ]
    },
    {
      "cell_type": "code",
      "metadata": {
        "id": "g3LKaDvK2Ps_",
        "colab_type": "code",
        "outputId": "64bfa16e-e371-4553-859a-74424157f6e9",
        "colab": {
          "base_uri": "https://localhost:8080/",
          "height": 54
        }
      },
      "source": [
        "print(match_idlist)"
      ],
      "execution_count": 0,
      "outputs": [
        {
          "output_type": "stream",
          "text": [
            "[1375927, 1375943, 1375970, 1375961, 1375969, 1375992, 1376016, 1376042, 1376052, 1375976, 1375983, 1376007, 1376025, 1376047, 1376069, 1376288, 1376296, 1376268, 1376272, 1376094, 1376134, 1376108, 1376147, 1376109, 1376141, 1376099, 1376149, 1376217, 1376247]\n"
          ],
          "name": "stdout"
        }
      ]
    },
    {
      "cell_type": "markdown",
      "metadata": {
        "id": "Eo6Fcjo0YhCj",
        "colab_type": "text"
      },
      "source": [
        "matches.py用のリスト"
      ]
    },
    {
      "cell_type": "code",
      "metadata": {
        "id": "LDKynXzpB7Qv",
        "colab_type": "code",
        "outputId": "9d64bf11-9a2b-494f-be94-d06da116f00c",
        "colab": {
          "base_uri": "https://localhost:8080/",
          "height": 510
        }
      },
      "source": [
        "matchespy = []\n",
        "for i in match_idlist:\n",
        "  matchespy.append('pl1920_' + str(i)  +'.html')\n",
        "matchespy"
      ],
      "execution_count": 0,
      "outputs": [
        {
          "output_type": "execute_result",
          "data": {
            "text/plain": [
              "['pl1920_1375927.html',\n",
              " 'pl1920_1375943.html',\n",
              " 'pl1920_1375970.html',\n",
              " 'pl1920_1375961.html',\n",
              " 'pl1920_1375969.html',\n",
              " 'pl1920_1375992.html',\n",
              " 'pl1920_1376016.html',\n",
              " 'pl1920_1376042.html',\n",
              " 'pl1920_1376052.html',\n",
              " 'pl1920_1375976.html',\n",
              " 'pl1920_1375983.html',\n",
              " 'pl1920_1376007.html',\n",
              " 'pl1920_1376025.html',\n",
              " 'pl1920_1376047.html',\n",
              " 'pl1920_1376069.html',\n",
              " 'pl1920_1376288.html',\n",
              " 'pl1920_1376296.html',\n",
              " 'pl1920_1376268.html',\n",
              " 'pl1920_1376272.html',\n",
              " 'pl1920_1376094.html',\n",
              " 'pl1920_1376134.html',\n",
              " 'pl1920_1376108.html',\n",
              " 'pl1920_1376147.html',\n",
              " 'pl1920_1376109.html',\n",
              " 'pl1920_1376141.html',\n",
              " 'pl1920_1376099.html',\n",
              " 'pl1920_1376149.html',\n",
              " 'pl1920_1376217.html',\n",
              " 'pl1920_1376247.html']"
            ]
          },
          "metadata": {
            "tags": []
          },
          "execution_count": 10
        }
      ]
    },
    {
      "cell_type": "code",
      "metadata": {
        "id": "f1MAn4bEY5F9",
        "colab_type": "code",
        "outputId": "1ff4bf6c-8c7f-46ce-9097-ae86dd9c430e",
        "colab": {
          "base_uri": "https://localhost:8080/",
          "height": 168
        }
      },
      "source": [
        "changed"
      ],
      "execution_count": 0,
      "outputs": [
        {
          "output_type": "error",
          "ename": "NameError",
          "evalue": "ignored",
          "traceback": [
            "\u001b[0;31m---------------------------------------------------------------------------\u001b[0m",
            "\u001b[0;31mNameError\u001b[0m                                 Traceback (most recent call last)",
            "\u001b[0;32m<ipython-input-1-2f6933b5ee0f>\u001b[0m in \u001b[0;36m<module>\u001b[0;34m()\u001b[0m\n\u001b[0;32m----> 1\u001b[0;31m \u001b[0mchanged\u001b[0m\u001b[0;34m\u001b[0m\u001b[0;34m\u001b[0m\u001b[0m\n\u001b[0m",
            "\u001b[0;31mNameError\u001b[0m: name 'changed' is not defined"
          ]
        }
      ]
    },
    {
      "cell_type": "code",
      "metadata": {
        "id": "H8lzHJZBy_Ld",
        "colab_type": "code",
        "colab": {}
      },
      "source": [
        ""
      ],
      "execution_count": 0,
      "outputs": []
    }
  ]
}
>>>>>>> origin/master
